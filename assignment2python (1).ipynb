{
  "nbformat": 4,
  "nbformat_minor": 0,
  "metadata": {
    "colab": {
      "provenance": []
    },
    "kernelspec": {
      "name": "python3",
      "display_name": "Python 3"
    },
    "language_info": {
      "name": "python"
    }
  },
  "cells": [
    {
      "cell_type": "code",
      "execution_count": null,
      "metadata": {
        "id": "IdeUccnM_lCv",
        "colab": {
          "base_uri": "https://localhost:8080/"
        },
        "outputId": "4084021c-d874-46f6-ff71-ffccd8d308a9"
      },
      "outputs": [
        {
          "output_type": "stream",
          "name": "stdout",
          "text": [
            "hello world\n"
          ]
        }
      ],
      "source": [
        "#1. write a python program to print hello world\n",
        "print(\"hello world\")\n"
      ]
    },
    {
      "cell_type": "code",
      "source": [
        "# 2. Write a Python program that displays your name and age\n",
        "\n",
        "print(\"name= nitish and age = 20\")"
      ],
      "metadata": {
        "id": "g1X_2blA_uSO"
      },
      "execution_count": null,
      "outputs": []
    },
    {
      "cell_type": "code",
      "source": [
        "# 3.Write code to print all the pre-defined keywords in Python using the keyword library\n",
        "\n",
        "import keyword\n",
        "print(keyword.kwlist)"
      ],
      "metadata": {
        "id": "dg3IaNvF_yeN",
        "colab": {
          "base_uri": "https://localhost:8080/"
        },
        "outputId": "f028aea6-489a-4cea-da4d-20c323f715e3"
      },
      "execution_count": null,
      "outputs": [
        {
          "output_type": "stream",
          "name": "stdout",
          "text": [
            "['False', 'None', 'True', 'and', 'as', 'assert', 'async', 'await', 'break', 'class', 'continue', 'def', 'del', 'elif', 'else', 'except', 'finally', 'for', 'from', 'global', 'if', 'import', 'in', 'is', 'lambda', 'nonlocal', 'not', 'or', 'pass', 'raise', 'return', 'try', 'while', 'with', 'yield']\n"
          ]
        }
      ]
    },
    {
      "cell_type": "code",
      "source": [
        "# 4. write a program to check weater a word is a keyword or not\n",
        "\n",
        "import keyword\n",
        "\n",
        "def is_keyword(word):\n",
        "\n",
        "    return keyword.iskeyword(word)\n",
        "\n",
        "\n",
        "word = input(\"Enter a word: \")\n",
        "\n",
        "if is_keyword(word):\n",
        "    print(f\"'{word}' is a Python keyword.\")\n",
        "else:\n",
        "    print(f\"'{word}' is not a Python keyword.\")"
      ],
      "metadata": {
        "colab": {
          "base_uri": "https://localhost:8080/"
        },
        "id": "BzAR0SfPNlb7",
        "outputId": "e1f69480-5d59-4d81-a85e-8070b847aaab"
      },
      "execution_count": null,
      "outputs": [
        {
          "output_type": "stream",
          "name": "stdout",
          "text": [
            "Enter a word: nitish\n",
            "'nitish' is not a Python keyword.\n"
          ]
        }
      ]
    },
    {
      "cell_type": "code",
      "source": [
        "#5. Create a list and tuple in Python, and demonstrate how attempting to change an element works differently\n",
        "\n",
        "\n",
        "list1=[2,4,6,\"apple\"]\n",
        "tuple1 =(2,4,6,\"apple\")\n",
        "\n",
        "print(list1.append(\"orrange\"))\n",
        "print(tuple.append(\"orrange\"))"
      ],
      "metadata": {
        "id": "MvPaO_Ds_yiL",
        "colab": {
          "base_uri": "https://localhost:8080/",
          "height": 193
        },
        "outputId": "c61772fe-2fab-4c1c-d04d-2eb7f163dd1b"
      },
      "execution_count": null,
      "outputs": [
        {
          "output_type": "stream",
          "name": "stdout",
          "text": [
            "None\n"
          ]
        },
        {
          "output_type": "error",
          "ename": "AttributeError",
          "evalue": "type object 'tuple' has no attribute 'append'",
          "traceback": [
            "\u001b[0;31m---------------------------------------------------------------------------\u001b[0m",
            "\u001b[0;31mAttributeError\u001b[0m                            Traceback (most recent call last)",
            "\u001b[0;32m<ipython-input-9-ade75679131d>\u001b[0m in \u001b[0;36m<cell line: 0>\u001b[0;34m()\u001b[0m\n\u001b[1;32m      6\u001b[0m \u001b[0;34m\u001b[0m\u001b[0m\n\u001b[1;32m      7\u001b[0m \u001b[0mprint\u001b[0m\u001b[0;34m(\u001b[0m\u001b[0mlist1\u001b[0m\u001b[0;34m.\u001b[0m\u001b[0mappend\u001b[0m\u001b[0;34m(\u001b[0m\u001b[0;34m\"orrange\"\u001b[0m\u001b[0;34m)\u001b[0m\u001b[0;34m)\u001b[0m\u001b[0;34m\u001b[0m\u001b[0;34m\u001b[0m\u001b[0m\n\u001b[0;32m----> 8\u001b[0;31m \u001b[0mprint\u001b[0m\u001b[0;34m(\u001b[0m\u001b[0mtuple\u001b[0m\u001b[0;34m.\u001b[0m\u001b[0mappend\u001b[0m\u001b[0;34m(\u001b[0m\u001b[0;34m\"orrange\"\u001b[0m\u001b[0;34m)\u001b[0m\u001b[0;34m)\u001b[0m\u001b[0;34m\u001b[0m\u001b[0;34m\u001b[0m\u001b[0m\n\u001b[0m",
            "\u001b[0;31mAttributeError\u001b[0m: type object 'tuple' has no attribute 'append'"
          ]
        }
      ]
    },
    {
      "cell_type": "code",
      "source": [
        "# 6.  Write a function to demonstrate the behavior of mutable and immutable arguments\n",
        "def  engineering ( x):\n",
        "\n",
        "  return x\n",
        "\n",
        "add = engineering((2,4,5,6))\n",
        "\n",
        "new_add= engineering((5,4,3,6,))\n",
        "\n",
        "print(add)\n",
        "\n"
      ],
      "metadata": {
        "id": "8oOx_oJz_ykk",
        "colab": {
          "base_uri": "https://localhost:8080/"
        },
        "outputId": "a13f5ef4-70f6-4b11-cc26-77214df653bc"
      },
      "execution_count": null,
      "outputs": [
        {
          "output_type": "stream",
          "name": "stdout",
          "text": [
            "(2, 4, 5, 6)\n"
          ]
        }
      ]
    },
    {
      "cell_type": "code",
      "source": [
        "#  7.  Write a function to demonstrate the behavior of mutable and immutable arguments\n",
        "\n",
        "def modify_argument ( mutable_argument,imutable_argument):\n",
        " mutable_argument.append(4)\n",
        " imutable_argument+=1\n",
        "\n",
        "\n",
        "list1 = [ 2,3]\n",
        "int = 10\n",
        "\n",
        "modify_argument( list1,tuple1)\n",
        "print(\"mutable_argument =\", list1 )\n",
        "print(\"immutable argument=\", int)"
      ],
      "metadata": {
        "colab": {
          "base_uri": "https://localhost:8080/"
        },
        "outputId": "67fe27a9-307f-4e04-8bbd-b47433f27622",
        "id": "FlhFM2JHJPxb"
      },
      "execution_count": null,
      "outputs": [
        {
          "output_type": "stream",
          "name": "stdout",
          "text": [
            "mutable_argument = [2, 3, 4]\n",
            "immutable argument= 10\n"
          ]
        }
      ]
    },
    {
      "cell_type": "code",
      "source": [
        "# 8.  Write a program to demonstrate the use of logical operators\n",
        "\n",
        "x=3\n",
        "y= 5\n",
        "\n",
        "if x==3 or y == 5:\n",
        "  print(\"the logical operator is or\")\n",
        "\n",
        "elif x==3 and y ==5:\n",
        "  print(\"the logical operator is and\")\n",
        "\n",
        "elif  not y ==6:\n",
        "  print(\"the logical not operator is used\")\n",
        "\n",
        "else:\n",
        "  print( \"5\")\n"
      ],
      "metadata": {
        "id": "0kisFy71_y0X",
        "colab": {
          "base_uri": "https://localhost:8080/"
        },
        "outputId": "d7abc6da-39dc-4cb3-86af-43ca7abd9738"
      },
      "execution_count": null,
      "outputs": [
        {
          "output_type": "stream",
          "name": "stdout",
          "text": [
            "the logical operator is or\n"
          ]
        }
      ]
    },
    {
      "cell_type": "code",
      "source": [
        "# 9.Write a Python program to convert user input from string to integer, float, and boolean types\n",
        "\n",
        "x= \"50\"\n",
        "y= int(x)\n",
        "print(y)\n",
        "z= float(x)\n",
        "print(z)\n",
        "a= bool(x)\n",
        "print(a)\n"
      ],
      "metadata": {
        "colab": {
          "base_uri": "https://localhost:8080/"
        },
        "id": "ToCZJ4NtYihf",
        "outputId": "bb2dd8b2-29e0-4e6d-d87e-4c5d95d2cdd6"
      },
      "execution_count": null,
      "outputs": [
        {
          "output_type": "stream",
          "name": "stdout",
          "text": [
            "50\n",
            "50.0\n",
            "True\n"
          ]
        }
      ]
    },
    {
      "cell_type": "code",
      "source": [
        "# 10. type casting in list elements\n",
        "\n",
        "\n",
        "list1 = [ 2,4,5,6]\n",
        "print( float( list1[2]))\n",
        "\n"
      ],
      "metadata": {
        "colab": {
          "base_uri": "https://localhost:8080/"
        },
        "id": "o6ld57nAJZUH",
        "outputId": "4f1bec7a-6e52-40e7-9a8d-e749941a5162"
      },
      "execution_count": null,
      "outputs": [
        {
          "output_type": "stream",
          "name": "stdout",
          "text": [
            "5.0\n"
          ]
        }
      ]
    },
    {
      "cell_type": "code",
      "source": [
        "# 11. write a python program to check if a number is positive negative or 0\n",
        "\n",
        "x= int( input(\"enter the number\"))\n",
        "\n",
        "if x>0:\n",
        "  print(\"number is positive\")\n",
        "elif x==0:\n",
        "  print(\"the number is 0\")\n",
        "else:\n",
        "  print(\"number is negative\")"
      ],
      "metadata": {
        "colab": {
          "base_uri": "https://localhost:8080/"
        },
        "id": "SyDi8LoiYjKy",
        "outputId": "703a068b-4acb-4120-f12f-53c8fbf20322"
      },
      "execution_count": null,
      "outputs": [
        {
          "output_type": "stream",
          "name": "stdout",
          "text": [
            "enter the number5\n",
            "number is positive\n"
          ]
        }
      ]
    },
    {
      "cell_type": "code",
      "source": [
        "# 12.  Write a for loop to print numbers from 1 to 100\n",
        "for num in range(1,11):\n",
        "  print(num)"
      ],
      "metadata": {
        "colab": {
          "base_uri": "https://localhost:8080/"
        },
        "id": "iFej7fEIc9j3",
        "outputId": "1656c6d5-827c-4f1d-89f9-707ae8fd97f0"
      },
      "execution_count": null,
      "outputs": [
        {
          "output_type": "stream",
          "name": "stdout",
          "text": [
            "1\n",
            "2\n",
            "3\n",
            "4\n",
            "5\n",
            "6\n",
            "7\n",
            "8\n",
            "9\n",
            "10\n"
          ]
        }
      ]
    },
    {
      "cell_type": "code",
      "source": [
        "#13. Write a Python program to find the sum of all even numbers between 1 and 50\n",
        "\n",
        "sum=0\n",
        "for even in range(1,51):\n",
        " if even%2==0:\n",
        "   sum = even+sum\n",
        "\n",
        "even+=1\n",
        "\n",
        "print(sum)\n"
      ],
      "metadata": {
        "colab": {
          "base_uri": "https://localhost:8080/"
        },
        "id": "zFJevZGmc9sW",
        "outputId": "873b5789-2000-4c5c-eb1a-631b75e92289"
      },
      "execution_count": null,
      "outputs": [
        {
          "output_type": "stream",
          "name": "stdout",
          "text": [
            "650\n"
          ]
        }
      ]
    },
    {
      "cell_type": "code",
      "source": [
        "#.14.  Write a program to reverse a string using a while loop\n",
        "\n",
        "str1 = \"ashish moksha\"\n",
        "reversed_str = \"\"\n",
        "\n",
        "i = len(str1) - 1\n",
        "while i >= 0:\n",
        "    reversed_str += str1[i]\n",
        "    i -= 1\n",
        "\n",
        "print(reversed_str)\n",
        "\n",
        "\n"
      ],
      "metadata": {
        "id": "hBxC7SEeeryg"
      },
      "execution_count": null,
      "outputs": []
    },
    {
      "cell_type": "code",
      "source": [
        "# 15.Write a Python program to calculate the factorial of a number provided by the user using a while loop.\n",
        " # Function to calculate factorial using a while loop\n",
        "def factorial_while(number):\n",
        "\n",
        "\n",
        "  if number < 0:\n",
        "    print(\"Factorial is not defined for negative numbers.\")\n",
        "    return None\n",
        "  elif number == 0:\n",
        "    return 1\n",
        "  else:\n",
        "    factorial = 1\n",
        "    i = 1\n",
        "    while i <= number:\n",
        "      factorial *= i\n",
        "      i += 1\n",
        "    return factorial\n",
        "\n",
        "\n",
        "try:\n",
        "  num = int(input(\"Enter a non-negative integer: \"))\n",
        "\n",
        "  result = factorial_while(num)\n",
        "  if result is not None:\n",
        "    print(f\"The factorial of {num} is {result}\")\n",
        "except ValueError:\n",
        "  print(\"Invalid input. Please enter a valid integer.\")\n",
        "\n"
      ],
      "metadata": {
        "colab": {
          "base_uri": "https://localhost:8080/",
          "height": 228
        },
        "id": "bxSDatfAP9ah",
        "outputId": "a5d30fd7-409a-44b1-cf8b-e38d465efd90"
      },
      "execution_count": null,
      "outputs": [
        {
          "name": "stdout",
          "output_type": "stream",
          "text": [
            "Enter a non-negative integer: 13\n"
          ]
        },
        {
          "output_type": "error",
          "ename": "TypeError",
          "evalue": "'int' object is not callable",
          "traceback": [
            "\u001b[0;31m---------------------------------------------------------------------------\u001b[0m",
            "\u001b[0;31mTypeError\u001b[0m                                 Traceback (most recent call last)",
            "\u001b[0;32m<ipython-input-19-b4c8a70989e6>\u001b[0m in \u001b[0;36m<cell line: 0>\u001b[0;34m()\u001b[0m\n\u001b[1;32m     19\u001b[0m \u001b[0;34m\u001b[0m\u001b[0m\n\u001b[1;32m     20\u001b[0m \u001b[0;32mtry\u001b[0m\u001b[0;34m:\u001b[0m\u001b[0;34m\u001b[0m\u001b[0;34m\u001b[0m\u001b[0m\n\u001b[0;32m---> 21\u001b[0;31m   \u001b[0mnum\u001b[0m \u001b[0;34m=\u001b[0m \u001b[0mint\u001b[0m\u001b[0;34m(\u001b[0m\u001b[0minput\u001b[0m\u001b[0;34m(\u001b[0m\u001b[0;34m\"Enter a non-negative integer: \"\u001b[0m\u001b[0;34m)\u001b[0m\u001b[0;34m)\u001b[0m\u001b[0;34m\u001b[0m\u001b[0;34m\u001b[0m\u001b[0m\n\u001b[0m\u001b[1;32m     22\u001b[0m \u001b[0;34m\u001b[0m\u001b[0m\n\u001b[1;32m     23\u001b[0m   \u001b[0mresult\u001b[0m \u001b[0;34m=\u001b[0m \u001b[0mfactorial_while\u001b[0m\u001b[0;34m(\u001b[0m\u001b[0mnum\u001b[0m\u001b[0;34m)\u001b[0m\u001b[0;34m\u001b[0m\u001b[0;34m\u001b[0m\u001b[0m\n",
            "\u001b[0;31mTypeError\u001b[0m: 'int' object is not callable"
          ]
        }
      ]
    },
    {
      "cell_type": "markdown",
      "source": [
        "1. what is pythona nd why is it popular?\n",
        " - python is a programming language and it popular due to its simple syntax\n",
        "\n",
        "\n",
        "2. waht is interpretor in python\n",
        "- interpretor  executes and read the code line by line and after reading the code it shows the error\n",
        "whereas the compiler  executes a code at a one time and errors are detected before running the code\n",
        "\n",
        "\n",
        "3. what are predefined keywords in python\n",
        "- these are some words in python whose meaning has been fixed example\n",
        "   input = this has a special meaning to  raed the input from the user\n",
        "   continue = this key word has meaning to  skip the code and run to the next code.\n",
        "\n",
        "\n",
        "4. Can keywords be used as variable names ?\n",
        "- NO.\n",
        "\n",
        "5. What is mutability in Python?\n",
        "- mutablity means that the given data can be modified and changed .\n",
        "\n",
        "\n",
        "6. why are list mutable but tuple are non mutable?\n",
        "-  tuple are immutable bcs - when we  form a tuple it memory size get fixed in the store , which cant be changed which implies that the tuple are non  changable whareas ,\n",
        "list are mutable bcs while creating a list itt stores more memory and can be modified.\n",
        "\n",
        "\n",
        "7. What is the difference between “==” and “is” operators in Python?\n",
        "- \"==\" is called the eqality operator whereas ,\n",
        " \"is\" compares the memory location.\n",
        "\n",
        "\n",
        "8. What are logical operators in Python?\n",
        "- there are mainly 3 logical operators in python .\n",
        "  1. or = it is logical or operator checks whether one of the two  the condittions is  being verified or not\n",
        "  2. and = logical and operator checks both the values are being verified or not.\n",
        "  3. not = it  checks  that both the conditions shoud not be verified .\n",
        "   THEIR DEFAULT VALUES DEPEND ON THE TRUTH TABLE\n",
        "\n",
        "\n",
        "9. what is type casting in python?\n",
        "- type casting means  the conversion of data from  one primitive data type to other.\n",
        "\n",
        "\n",
        "10. What is the difference between implicit and explicit type casting?\n",
        "- implicit type casting refers to conversion of data into the default data type of the code.\n",
        "explicit type casting refers to the convrsion of data into required data type in the code.\n",
        "\n",
        "\n",
        "11. What is the purpose of conditional statements in Python  ?\n",
        "- conditional statements in Python are used to control the flow of execution based on certain conditions. They allow the program to make decisions and execute different blocks of code depending on whether a given condition is True or False.\n",
        "\n",
        "12. How does the elif statement work?\n",
        "- The elif (short for \"else if\") statement in Python allows you to check multiple conditions in sequence. It comes after an if statement and before an else statement.\n",
        "\n",
        "\n",
        "13. What is the difference between for and while loops?\n",
        "- 1. for Loop:\n",
        "The for loop is typically used when you know in advance how many times you want to iterate over a sequence (like a list, tuple, string, or range).\n",
        "It is used to iterate over elements in a collection or range.\n",
        " 2.while Loop:\n",
        "The while loop is used when you want to repeat a block of code as long as a condition is True. You don’t always know in advance how many times the loop will run.\n",
        "The loop will continue executing until the condition becomes False.\n",
        "\n",
        "\n",
        "14. Describe a scenario where a while loop is more suitable than a for loop?\n",
        "-  while loop is more suitable than a for loop in situations where you don't know in advance how many iterations are needed, and you want the loop to continue as long as a certain condition remains true.\n",
        "\n"
      ],
      "metadata": {
        "id": "wPrQPdOV_zDO"
      }
    },
    {
      "cell_type": "markdown",
      "source": [
        "# New section"
      ],
      "metadata": {
        "id": "EwVhhH1UaWJO"
      }
    }
  ]
}